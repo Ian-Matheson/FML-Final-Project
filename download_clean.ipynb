{
 "cells": [
  {
   "cell_type": "code",
   "execution_count": 3,
   "metadata": {},
   "outputs": [
    {
     "data": {
      "text/html": [
       "\n",
       "            <style>\n",
       "                .geemap-dark {\n",
       "                    --jp-widgets-color: white;\n",
       "                    --jp-widgets-label-color: white;\n",
       "                    --jp-ui-font-color1: white;\n",
       "                    --jp-layout-color2: #454545;\n",
       "                    background-color: #383838;\n",
       "                }\n",
       "\n",
       "                .geemap-dark .jupyter-button {\n",
       "                    --jp-layout-color3: #383838;\n",
       "                }\n",
       "\n",
       "                .geemap-colab {\n",
       "                    background-color: var(--colab-primary-surface-color, white);\n",
       "                }\n",
       "\n",
       "                .geemap-colab .jupyter-button {\n",
       "                    --jp-layout-color3: var(--colab-primary-surface-color, white);\n",
       "                }\n",
       "            </style>\n",
       "            "
      ],
      "text/plain": [
       "<IPython.core.display.HTML object>"
      ]
     },
     "metadata": {},
     "output_type": "display_data"
    },
    {
     "data": {
      "text/html": [
       "<p>To authorize access needed by Earth Engine, open the following\n",
       "        URL in a web browser and follow the instructions:</p>\n",
       "        <p><a href=https://code.earthengine.google.com/client-auth?scopes=https%3A//www.googleapis.com/auth/earthengine%20https%3A//www.googleapis.com/auth/cloud-platform%20https%3A//www.googleapis.com/auth/devstorage.full_control&request_id=CCbbwWfZEnOMFqjxdPlubZ0oQNc6lKAWXlO8nd74CgY&tc=avmklP0ROuBW28b_67qKq3lRjP_473E-7cKGpyn5i2I&cc=AWrWbfeAoBVNEPI97KZjM2YuOwsJSBeS2l7PpDVM34Q>https://code.earthengine.google.com/client-auth?scopes=https%3A//www.googleapis.com/auth/earthengine%20https%3A//www.googleapis.com/auth/cloud-platform%20https%3A//www.googleapis.com/auth/devstorage.full_control&request_id=CCbbwWfZEnOMFqjxdPlubZ0oQNc6lKAWXlO8nd74CgY&tc=avmklP0ROuBW28b_67qKq3lRjP_473E-7cKGpyn5i2I&cc=AWrWbfeAoBVNEPI97KZjM2YuOwsJSBeS2l7PpDVM34Q</a></p>\n",
       "        <p>The authorization workflow will generate a code, which you should paste in the box below.</p>\n",
       "        "
      ],
      "text/plain": [
       "<IPython.core.display.HTML object>"
      ]
     },
     "metadata": {},
     "output_type": "display_data"
    },
    {
     "name": "stdout",
     "output_type": "stream",
     "text": [
      "\n",
      "Successfully saved authorization token.\n"
     ]
    }
   ],
   "source": [
    "import ee \n",
    "import geemap\n",
    "import numpy as np\n",
    "import pandas as pd \n",
    "from matplotlib import pyplot as plt\n",
    "\n",
    "ee.Authenticate()\n",
    "ee.Initialize(project=\"cloud-cover-421214\")"
   ]
  },
  {
   "cell_type": "code",
   "execution_count": 4,
   "metadata": {},
   "outputs": [
    {
     "data": {
      "text/html": [
       "\n",
       "            <style>\n",
       "                .geemap-dark {\n",
       "                    --jp-widgets-color: white;\n",
       "                    --jp-widgets-label-color: white;\n",
       "                    --jp-ui-font-color1: white;\n",
       "                    --jp-layout-color2: #454545;\n",
       "                    background-color: #383838;\n",
       "                }\n",
       "\n",
       "                .geemap-dark .jupyter-button {\n",
       "                    --jp-layout-color3: #383838;\n",
       "                }\n",
       "\n",
       "                .geemap-colab {\n",
       "                    background-color: var(--colab-primary-surface-color, white);\n",
       "                }\n",
       "\n",
       "                .geemap-colab .jupyter-button {\n",
       "                    --jp-layout-color3: var(--colab-primary-surface-color, white);\n",
       "                }\n",
       "            </style>\n",
       "            "
      ],
      "text/plain": [
       "<IPython.core.display.HTML object>"
      ]
     },
     "metadata": {},
     "output_type": "display_data"
    }
   ],
   "source": [
    "cushing_ok_site = [[-96.76487361449992,35.919767693818464],\n",
    "[-96.7147484924296,35.919767693818464],\n",
    "[-96.7147484924296,35.954792502408324],\n",
    "[-96.76487361449992,35.954792502408324],\n",
    "[-96.76487361449992,35.919767693818464]]\n",
    "\n",
    "roi = ee.Geometry.Polygon(cushing_ok_site)\n",
    "start_date = \"2020-01-01\"\n",
    "end_date = \"2022-01-01\""
   ]
  },
  {
   "cell_type": "code",
   "execution_count": 27,
   "metadata": {},
   "outputs": [
    {
     "data": {
      "application/vnd.jupyter.widget-view+json": {
       "model_id": "52443c41fbb04225b281a3018cf7ce04",
       "version_major": 2,
       "version_minor": 0
      },
      "text/plain": [
       "Map(center=[35.937281409522136, -96.7398110534637], controls=(WidgetControl(options=['position', 'transparent_…"
      ]
     },
     "metadata": {},
     "output_type": "display_data"
    }
   ],
   "source": [
    "# Display ROI\n",
    "\n",
    "m = geemap.Map()\n",
    "m.add_basemap()\n",
    "m.add_ee_layer(roi, {'color': 'red'}, 'ROI')\n",
    "m.center_object(roi, zoom=13)\n",
    "m"
   ]
  },
  {
   "cell_type": "code",
   "execution_count": 22,
   "metadata": {},
   "outputs": [
    {
     "name": "stdout",
     "output_type": "stream",
     "text": [
      "Cloudscore dataset size: 294\n",
      "Sentinel-2 dataset size: 294\n"
     ]
    }
   ],
   "source": [
    "cloudscores = ee.ImageCollection(\"GOOGLE/CLOUD_SCORE_PLUS/V1/S2_HARMONIZED\").filterBounds(roi).filterDate(start_date, end_date)\n",
    "sentinel2 = ee.ImageCollection(\"COPERNICUS/S2_SR_HARMONIZED\").filterBounds(roi).filterDate(start_date, end_date)\n",
    "print(f\"Cloudscore dataset size: {cloudscores.size().getInfo()}\\nSentinel-2 dataset size: {sentinel2.size().getInfo()}\")\n"
   ]
  },
  {
   "cell_type": "markdown",
   "metadata": {},
   "source": [
    "Sanity check: visualize first day of each series to inspect cloud match. Purple = cloudier. "
   ]
  },
  {
   "cell_type": "code",
   "execution_count": 24,
   "metadata": {},
   "outputs": [
    {
     "data": {
      "application/vnd.jupyter.widget-view+json": {
       "model_id": "ac2ebd90c2ed458c8e84e8d6f1a65cc3",
       "version_major": 2,
       "version_minor": 0
      },
      "text/plain": [
       "Map(bottom=206321.0, center=[35.92186429147193, -96.73152923583986], controls=(WidgetControl(options=['positio…"
      ]
     },
     "metadata": {},
     "output_type": "display_data"
    }
   ],
   "source": [
    "s2_params = {'min': 0, 'max': 4000, 'bands': ['B8', 'B4', 'B3']}\n",
    "cs_params = {'min': 0, 'max': 1, 'bands': ['cs'], 'palette': 'plasma'}\n",
    "m.add_ee_layer(sentinel2.first(), s2_params, \"Sentinel-2\")\n",
    "m.add_ee_layer(cloudscores.first(), cs_params, \"Cloud score\")\n",
    "m"
   ]
  },
  {
   "cell_type": "code",
   "execution_count": 30,
   "metadata": {},
   "outputs": [
    {
     "name": "stdout",
     "output_type": "stream",
     "text": [
      "Array shape (400, 462) collected on 2020-01-05T17:23:51\n",
      "Array shape (400, 462) collected on 2020-01-05T17:23:47\n",
      "Array shape (400, 462) collected on 2020-01-10T17:23:51\n",
      "{'2020-01-05T17:23:51': array([[0.89803922, 0.90196078, 0.90196078, ..., 0.88235294, 0.88235294,\n",
      "        0.87843137],\n",
      "       [0.89803922, 0.89803922, 0.90196078, ..., 0.87843137, 0.88235294,\n",
      "        0.88235294],\n",
      "       [0.89803922, 0.89803922, 0.89803922, ..., 0.87843137, 0.88235294,\n",
      "        0.88235294],\n",
      "       ...,\n",
      "       [0.88627451, 0.89019608, 0.88627451, ..., 0.87058824, 0.87058824,\n",
      "        0.86666667],\n",
      "       [0.88627451, 0.89019608, 0.88627451, ..., 0.87058824, 0.87058824,\n",
      "        0.86666667],\n",
      "       [0.89411765, 0.89411765, 0.89411765, ..., 0.86666667, 0.86666667,\n",
      "        0.86666667]]), '2020-01-05T17:23:47': array([[0.90196078, 0.90196078, 0.90196078, ..., 0.89019608, 0.89019608,\n",
      "        0.89411765],\n",
      "       [0.90196078, 0.90196078, 0.90196078, ..., 0.89019608, 0.89019608,\n",
      "        0.89411765],\n",
      "       [0.89803922, 0.89803922, 0.89803922, ..., 0.89019608, 0.89019608,\n",
      "        0.89411765],\n",
      "       ...,\n",
      "       [0.88235294, 0.88235294, 0.87843137, ..., 0.87843137, 0.87843137,\n",
      "        0.87843137],\n",
      "       [0.88235294, 0.88235294, 0.88235294, ..., 0.87843137, 0.87843137,\n",
      "        0.8745098 ],\n",
      "       [0.88627451, 0.88627451, 0.88627451, ..., 0.87843137, 0.87843137,\n",
      "        0.8745098 ]]), '2020-01-10T17:23:51': array([[0.00784314, 0.00784314, 0.00784314, ..., 0.71372549, 0.71764706,\n",
      "        0.71764706],\n",
      "       [0.00784314, 0.00784314, 0.00784314, ..., 0.70980392, 0.70980392,\n",
      "        0.71372549],\n",
      "       [0.00784314, 0.00784314, 0.00784314, ..., 0.70588235, 0.70588235,\n",
      "        0.70588235],\n",
      "       ...,\n",
      "       [0.00784314, 0.00784314, 0.00784314, ..., 0.01176471, 0.01568627,\n",
      "        0.01960784],\n",
      "       [0.00784314, 0.00784314, 0.00784314, ..., 0.01568627, 0.01960784,\n",
      "        0.02352941],\n",
      "       [0.00784314, 0.00784314, 0.00784314, ..., 0.01960784, 0.01960784,\n",
      "        0.02352941]])}\n"
     ]
    }
   ],
   "source": [
    "cl = cloudscores.toList(3)\n",
    "\n",
    "data = {}\n",
    "\n",
    "for i in range(cl.size().getInfo()):\n",
    "    image = ee.Image(cl.get(i))\n",
    "    t = ee.Date(image.get('system:time_start')).format().getInfo()\n",
    "    arr = image.sampleRectangle(roi).get('cs')\n",
    "    arr = np.array(arr.getInfo())\n",
    "    data[t] = arr\n",
    "    print(f\"Array shape {arr.shape} collected on {t}\")\n",
    "\n",
    "print(data)"
   ]
  },
  {
   "cell_type": "code",
   "execution_count": null,
   "metadata": {},
   "outputs": [],
   "source": []
  }
 ],
 "metadata": {
  "kernelspec": {
   "display_name": ".venv",
   "language": "python",
   "name": "python3"
  },
  "language_info": {
   "codemirror_mode": {
    "name": "ipython",
    "version": 3
   },
   "file_extension": ".py",
   "mimetype": "text/x-python",
   "name": "python",
   "nbconvert_exporter": "python",
   "pygments_lexer": "ipython3",
   "version": "3.11.5"
  }
 },
 "nbformat": 4,
 "nbformat_minor": 2
}
