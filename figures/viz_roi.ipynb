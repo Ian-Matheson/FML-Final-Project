{
 "cells": [
  {
   "cell_type": "code",
   "execution_count": null,
   "metadata": {},
   "outputs": [],
   "source": [
    "import geemap \n",
    "import ee \n",
    "import pandas as pd\n",
    "\n",
    "ee.Authenticate()\n",
    "ee.Initialize(project=\"cloud-cover-421214\")"
   ]
  },
  {
   "cell_type": "code",
   "execution_count": null,
   "metadata": {},
   "outputs": [],
   "source": [
    "df = pd.read_csv(\"../FRT_coords/tank_inventory.csv\")\n",
    "df = df.dropna(axis=0, how='any')\n",
    "\n",
    "features = [\n",
    "    ee.Feature(ee.Geometry.Rectangle(\n",
    "        coords=[\n",
    "            float(r[\"NW Coor (Long, Lat)\"][1:-1].split(\", \")[0]), # nw long \n",
    "            float(r[\"SE Coor (Long, Lat)\"][1:-1].split(\", \")[1]), # se lat \n",
    "            float(r[\"SE Coor (Long, Lat)\"][1:-1].split(\", \")[0]), # se long \n",
    "            float(r[\"NW Coor (Long, Lat)\"][1:-1].split(\", \")[1]) # nw lat\n",
    "        ]), \n",
    "        {\"state\":r[\"State\"], \"county\":r[\"County\"], \"id\": r[\"ID\"]}\n",
    "    )\n",
    "    # for index, r in df.head(10).iterrows()\n",
    "    for index, r in df.iterrows()\n",
    "]\n",
    "\n",
    "fc = ee.FeatureCollection(features)"
   ]
  },
  {
   "cell_type": "code",
   "execution_count": null,
   "metadata": {},
   "outputs": [],
   "source": [
    "\n",
    "m = geemap.Map()\n",
    "m.add_basemap(\"Esri.WorldImagery\")\n",
    "m.add_ee_layer(fc.style(color='red'))\n",
    "m"
   ]
  },
  {
   "cell_type": "code",
   "execution_count": null,
   "metadata": {},
   "outputs": [],
   "source": [
    "cushing_ok_site = [[-96.76487361449992,35.919767693818464],\n",
    "[-96.7147484924296,35.919767693818464],\n",
    "[-96.7147484924296,35.954792502408324],\n",
    "[-96.76487361449992,35.954792502408324],\n",
    "[-96.76487361449992,35.919767693818464]]\n",
    "\n",
    "cushing = ee.Geometry.Polygon(cushing_ok_site)\n",
    "\n",
    "cloudscores = ee.ImageCollection(\"GOOGLE/CLOUD_SCORE_PLUS/V1/S2_HARMONIZED\").filterBounds(fc).filterDate(\"2020-01-05\", \"2021-01-03\").filterBounds(cushing)\n",
    "\n",
    "m.add_ee_layer(cloudscores.first().clipToCollection(fc))\n",
    "\n",
    "m"
   ]
  },
  {
   "cell_type": "code",
   "execution_count": null,
   "metadata": {},
   "outputs": [],
   "source": []
  }
 ],
 "metadata": {
  "kernelspec": {
   "display_name": ".venv",
   "language": "python",
   "name": "python3"
  },
  "language_info": {
   "codemirror_mode": {
    "name": "ipython",
    "version": 3
   },
   "file_extension": ".py",
   "mimetype": "text/x-python",
   "name": "python",
   "nbconvert_exporter": "python",
   "pygments_lexer": "ipython3",
   "version": "3.12.3"
  }
 },
 "nbformat": 4,
 "nbformat_minor": 2
}
