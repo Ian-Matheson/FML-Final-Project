{
 "cells": [
  {
   "cell_type": "code",
   "execution_count": 1,
   "metadata": {},
   "outputs": [],
   "source": [
    "import geemap \n",
    "import ee \n",
    "\n",
    "ee.Authenticate()\n",
    "ee.Initialize(project=\"cloud-cover-421214\")\n"
   ]
  },
  {
   "cell_type": "code",
   "execution_count": 2,
   "metadata": {},
   "outputs": [
    {
     "name": "stdout",
     "output_type": "stream",
     "text": [
      "{'type': 'Date', 'value': 951350400000}\n"
     ]
    },
    {
     "data": {
      "application/vnd.jupyter.widget-view+json": {
       "model_id": "f15b6571975445f5974f98d6554ae350",
       "version_major": 2,
       "version_minor": 0
      },
      "text/plain": [
       "Map(center=[20, 0], controls=(WidgetControl(options=['position', 'transparent_bg'], widget=HBox(children=(Togg…"
      ]
     },
     "metadata": {},
     "output_type": "display_data"
    }
   ],
   "source": [
    "m = geemap.Map()\n",
    "\n",
    "modis = ee.ImageCollection(\"MODIS/061/MOD09GA\")\n",
    "modis = modis.first()\n",
    "\n",
    "# print(ee.Date(modis.get(\"system:start_time\")).format('YYY-MM-dd').getInfo())\n",
    "print(modis.date().getInfo())\n",
    "\n",
    "m.add_ee_layer(modis.select(['sur_refl_b01', 'sur_refl_b04', 'sur_refl_b03']), {'min': -100, 'max': 8000})\n",
    "m"
   ]
  },
  {
   "cell_type": "markdown",
   "metadata": {},
   "source": []
  },
  {
   "cell_type": "code",
   "execution_count": 3,
   "metadata": {},
   "outputs": [
    {
     "data": {
      "application/vnd.jupyter.widget-view+json": {
       "model_id": "f15b6571975445f5974f98d6554ae350",
       "version_major": 2,
       "version_minor": 0
      },
      "text/plain": [
       "Map(center=[20, 0], controls=(WidgetControl(options=['position', 'transparent_bg'], widget=HBox(children=(Togg…"
      ]
     },
     "metadata": {},
     "output_type": "display_data"
    }
   ],
   "source": [
    "def mask_clouds(img):\n",
    "    qa = img.select(\"state_1km\")\n",
    "    bitmask = 1 << 10\n",
    "    return img.updateMask(qa.bitwiseAnd(bitmask))\n",
    "\n",
    "temp = mask_clouds(modis)\n",
    "m.add_ee_layer(temp)\n",
    "m\n"
   ]
  },
  {
   "cell_type": "code",
   "execution_count": 4,
   "metadata": {},
   "outputs": [
    {
     "data": {
      "application/vnd.jupyter.widget-view+json": {
       "model_id": "f15b6571975445f5974f98d6554ae350",
       "version_major": 2,
       "version_minor": 0
      },
      "text/plain": [
       "Map(center=[20, 0], controls=(WidgetControl(options=['position', 'transparent_bg'], widget=HBox(children=(Togg…"
      ]
     },
     "metadata": {},
     "output_type": "display_data"
    }
   ],
   "source": [
    "def get_cloudmask(img):\n",
    "    qa = img.select(\"state_1km\")\n",
    "    bitmask = 1 << 10\n",
    "    return qa.bitwiseAnd(bitmask).toFloat()\n",
    "\n",
    "mask = get_cloudmask(modis)\n",
    "m.add_ee_layer(mask) # with default settings, white = cloud, black = not cloud\n",
    "m"
   ]
  },
  {
   "cell_type": "code",
   "execution_count": null,
   "metadata": {},
   "outputs": [],
   "source": []
  }
 ],
 "metadata": {
  "kernelspec": {
   "display_name": ".venv",
   "language": "python",
   "name": "python3"
  },
  "language_info": {
   "codemirror_mode": {
    "name": "ipython",
    "version": 3
   },
   "file_extension": ".py",
   "mimetype": "text/x-python",
   "name": "python",
   "nbconvert_exporter": "python",
   "pygments_lexer": "ipython3",
   "version": "3.12.3"
  }
 },
 "nbformat": 4,
 "nbformat_minor": 2
}
