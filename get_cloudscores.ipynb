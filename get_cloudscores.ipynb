{
 "cells": [
  {
   "cell_type": "code",
   "execution_count": 1,
   "metadata": {},
   "outputs": [],
   "source": [
    "# setup\n",
    "import pandas as pd \n",
    "import geemap\n",
    "import ee\n",
    "ee.Authenticate()\n",
    "ee.Initialize(project=\"cloud-cover-421214\")\n",
    "# LIMIT = 10 # limit number of bounding boxes for development"
   ]
  },
  {
   "cell_type": "code",
   "execution_count": 1,
   "metadata": {},
   "outputs": [
    {
     "ename": "NameError",
     "evalue": "name 'pd' is not defined",
     "output_type": "error",
     "traceback": [
      "\u001b[0;31m---------------------------------------------------------------------------\u001b[0m",
      "\u001b[0;31mNameError\u001b[0m                                 Traceback (most recent call last)",
      "Cell \u001b[0;32mIn[1], line 2\u001b[0m\n\u001b[1;32m      1\u001b[0m \u001b[38;5;66;03m# load bounding box feature data\u001b[39;00m\n\u001b[0;32m----> 2\u001b[0m df \u001b[38;5;241m=\u001b[39m \u001b[43mpd\u001b[49m\u001b[38;5;241m.\u001b[39mread_csv(\u001b[38;5;124m\"\u001b[39m\u001b[38;5;124m./FRT_coords/tank_inventory.csv\u001b[39m\u001b[38;5;124m\"\u001b[39m)\n\u001b[1;32m      3\u001b[0m df \u001b[38;5;241m=\u001b[39m df\u001b[38;5;241m.\u001b[39mdropna(axis\u001b[38;5;241m=\u001b[39m\u001b[38;5;241m0\u001b[39m, how\u001b[38;5;241m=\u001b[39m\u001b[38;5;124m'\u001b[39m\u001b[38;5;124many\u001b[39m\u001b[38;5;124m'\u001b[39m)\n\u001b[1;32m      5\u001b[0m features \u001b[38;5;241m=\u001b[39m [\n\u001b[1;32m      6\u001b[0m     ee\u001b[38;5;241m.\u001b[39mFeature(ee\u001b[38;5;241m.\u001b[39mGeometry\u001b[38;5;241m.\u001b[39mRectangle(\n\u001b[1;32m      7\u001b[0m         coords\u001b[38;5;241m=\u001b[39m[\n\u001b[0;32m   (...)\u001b[0m\n\u001b[1;32m     16\u001b[0m     \u001b[38;5;28;01mfor\u001b[39;00m index, r \u001b[38;5;129;01min\u001b[39;00m df\u001b[38;5;241m.\u001b[39miterrows()\n\u001b[1;32m     17\u001b[0m ]\n",
      "\u001b[0;31mNameError\u001b[0m: name 'pd' is not defined"
     ]
    }
   ],
   "source": [
    "# load bounding box feature data\n",
    "df = pd.read_csv(\"./FRT_coords/tank_inventory.csv\")\n",
    "df = df.dropna(axis=0, how='any')\n",
    "\n",
    "features = [\n",
    "    ee.Feature(ee.Geometry.Rectangle(\n",
    "        coords=[\n",
    "            float(r[\"NW Coor (Long, Lat)\"][1:-1].split(\", \")[0]), # nw long \n",
    "            float(r[\"SE Coor (Long, Lat)\"][1:-1].split(\", \")[1]), # se lat \n",
    "            float(r[\"SE Coor (Long, Lat)\"][1:-1].split(\", \")[0]), # se long \n",
    "            float(r[\"NW Coor (Long, Lat)\"][1:-1].split(\", \")[1]) # nw lat\n",
    "        ]), \n",
    "        {\"state\":r[\"State\"], \"county\":r[\"County\"], \"id\": r[\"ID\"]}\n",
    "    )\n",
    "    # for index, r in df.head(LIMIT).iterrows()\n",
    "    for index, r in df.iterrows()\n",
    "]\n",
    "\n",
    "fc = ee.FeatureCollection(features)"
   ]
  },
  {
   "cell_type": "code",
   "execution_count": 50,
   "metadata": {},
   "outputs": [],
   "source": [
    "# load cloudscore image data\n",
    "start_date = \"2015-07-01\"\n",
    "end_date = \"2024-05-01\"\n",
    "\n",
    "cloudscore = ee.ImageCollection(\"GOOGLE/CLOUD_SCORE_PLUS/V1/S2_HARMONIZED\").filterDate(start_date, end_date).filterBounds(fc)"
   ]
  },
  {
   "cell_type": "code",
   "execution_count": 51,
   "metadata": {},
   "outputs": [],
   "source": [
    "# core map reduce computation \n",
    "reduced = cloudscore.map(lambda image: image.reduceRegions(fc, ee.Reducer.mean()).map(lambda f: f.set('timestamp', ee.Date(image.get('system:time_start'))))).flatten()\n",
    "\n",
    "task = ee.batch.Export.table.toDrive(\n",
    "    collection=reduced, \n",
    "    description=\"full_cloudscores\",\n",
    "    folder=\"cloudscore\", \n",
    "    fileFormat=\"CSV\"\n",
    ")\n",
    "task.start()"
   ]
  },
  {
   "cell_type": "markdown",
   "metadata": {},
   "source": [
    "Above cell returns \"reduced\": feature collection where each feature is data per timestamp per area. So, N boxes over M days produce N*M features. \n",
    "\n",
    "cs = mean clouscore. \n",
    "  cs WILL be None if a particular box was not covered by the image\n",
    "\n",
    "timestamp = time this data was collected \n",
    "\n",
    "size: O(N*M) features"
   ]
  },
  {
   "cell_type": "code",
   "execution_count": 55,
   "metadata": {},
   "outputs": [
    {
     "data": {
      "text/plain": [
       "{'state': 'RUNNING',\n",
       " 'description': 'full_cloudscores',\n",
       " 'priority': 100,\n",
       " 'creation_timestamp_ms': 1715442998473,\n",
       " 'update_timestamp_ms': 1715443305459,\n",
       " 'start_timestamp_ms': 1715443005332,\n",
       " 'task_type': 'EXPORT_FEATURES',\n",
       " 'attempt': 1,\n",
       " 'id': 'HDVOQEDCHJ7O4QTJEHUJ6GGJ',\n",
       " 'name': 'projects/cloud-cover-421214/operations/HDVOQEDCHJ7O4QTJEHUJ6GGJ'}"
      ]
     },
     "execution_count": 55,
     "metadata": {},
     "output_type": "execute_result"
    }
   ],
   "source": [
    "# re run this cell to check task status\n",
    "task.status()\n"
   ]
  }
 ],
 "metadata": {
  "kernelspec": {
   "display_name": ".venv",
   "language": "python",
   "name": "python3"
  },
  "language_info": {
   "codemirror_mode": {
    "name": "ipython",
    "version": 3
   },
   "file_extension": ".py",
   "mimetype": "text/x-python",
   "name": "python",
   "nbconvert_exporter": "python",
   "pygments_lexer": "ipython3",
   "version": "3.12.3"
  }
 },
 "nbformat": 4,
 "nbformat_minor": 2
}
